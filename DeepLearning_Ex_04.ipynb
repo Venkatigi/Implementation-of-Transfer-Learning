{
  "cells": [
    {
      "cell_type": "code",
      "execution_count": 16,
      "metadata": {
        "id": "_PCYHChC2xJj"
      },
      "outputs": [],
      "source": [
        "import tensorflow as tf \n",
        "from tensorflow.keras.datasets import cifar10\n",
        "from tensorflow.keras.applications import VGG19 \n",
        "from tensorflow.keras.models import Sequential\n",
        "from tensorflow.keras.layers import Dense, Flatten, Dropout\n",
        "from tensorflow.keras.optimizers import Adam\n",
        "from tensorflow.keras.callbacks import ReduceLROnPlateau\n",
        "import pandas as pd\n",
        "from sklearn.metrics import classification_report,confusion_matrix\n",
        "import numpy as np"
      ]
    },
    {
      "cell_type": "code",
      "execution_count": 2,
      "metadata": {
        "colab": {
          "base_uri": "https://localhost:8080/"
        },
        "id": "Bayzjs7h3L7g",
        "outputId": "f9c4e05a-c5a9-4750-9689-9dac8cbc562f"
      },
      "outputs": [
        {
          "output_type": "stream",
          "name": "stdout",
          "text": [
            "Downloading data from https://www.cs.toronto.edu/~kriz/cifar-10-python.tar.gz\n",
            "170498071/170498071 [==============================] - 13s 0us/step\n"
          ]
        }
      ],
      "source": [
        "(x_train, y_train), (x_test, y_test) = cifar10.load_data ()"
      ]
    },
    {
      "cell_type": "code",
      "execution_count": 3,
      "metadata": {
        "id": "jyjii3Uhoa2n"
      },
      "outputs": [],
      "source": [
        "x_train = x_train.astype (\"float32\") / 255.0\n",
        "x_test = x_test.astype (\"float32\") / 255.0"
      ]
    },
    {
      "cell_type": "code",
      "execution_count": 4,
      "metadata": {
        "colab": {
          "base_uri": "https://localhost:8080/"
        },
        "id": "b9Nt-QFxosES",
        "outputId": "6569b6e6-470f-4b01-d98d-bb39a9e90a53"
      },
      "outputs": [
        {
          "output_type": "stream",
          "name": "stdout",
          "text": [
            "Downloading data from https://storage.googleapis.com/tensorflow/keras-applications/vgg19/vgg19_weights_tf_dim_ordering_tf_kernels_notop.h5\n",
            "80134624/80134624 [==============================] - 5s 0us/step\n"
          ]
        }
      ],
      "source": [
        "base_model = VGG19 (include_top = False, input_shape = (32, 32, 3))"
      ]
    },
    {
      "cell_type": "code",
      "execution_count": 5,
      "metadata": {
        "id": "MZu6tzBMpUhc"
      },
      "outputs": [],
      "source": [
        "for layer in base_model.layers:\n",
        "  layer.trainable = False"
      ]
    },
    {
      "cell_type": "code",
      "execution_count": 6,
      "metadata": {
        "id": "8BtzQ-FWpmpA"
      },
      "outputs": [],
      "source": [
        "model = Sequential()\n",
        "model.add(base_model)\n",
        "model.add(Flatten())\n",
        "model.add(Dense (512, activation = 'relu'))\n",
        "model.add(Dropout (0.5))\n",
        "model.add(Dense (10, activation= 'softmax'))"
      ]
    },
    {
      "cell_type": "code",
      "execution_count": 7,
      "metadata": {
        "id": "tN4V0VYfpmPo"
      },
      "outputs": [],
      "source": [
        "model.compile (optimizer = Adam (learning_rate=0.001),\n",
        "              loss = 'sparse_categorical_crossentropy',\n",
        "              metrics='accuracy'\n",
        "              )"
      ]
    },
    {
      "cell_type": "code",
      "execution_count": 8,
      "metadata": {
        "id": "aZThWSO1pmBU"
      },
      "outputs": [],
      "source": [
        "learning_rate_reduction = ReduceLROnPlateau (monitor = 'val_accuracy')"
      ]
    },
    {
      "cell_type": "code",
      "execution_count": 9,
      "metadata": {
        "colab": {
          "base_uri": "https://localhost:8080/"
        },
        "id": "mfmC7Jwgrp5c",
        "outputId": "68b089b9-dee0-4646-d0df-c1644317126a"
      },
      "outputs": [
        {
          "output_type": "stream",
          "name": "stdout",
          "text": [
            "Epoch 1/50\n",
            "782/782 [==============================] - 24s 18ms/step - loss: 1.5087 - accuracy: 0.4682 - val_loss: 1.3209 - val_accuracy: 0.5302 - lr: 0.0010\n",
            "Epoch 2/50\n",
            "782/782 [==============================] - 13s 17ms/step - loss: 1.3258 - accuracy: 0.5313 - val_loss: 1.2507 - val_accuracy: 0.5597 - lr: 0.0010\n",
            "Epoch 3/50\n",
            "782/782 [==============================] - 13s 17ms/step - loss: 1.2711 - accuracy: 0.5508 - val_loss: 1.2137 - val_accuracy: 0.5758 - lr: 0.0010\n",
            "Epoch 4/50\n",
            "782/782 [==============================] - 14s 18ms/step - loss: 1.2357 - accuracy: 0.5636 - val_loss: 1.1959 - val_accuracy: 0.5793 - lr: 0.0010\n",
            "Epoch 5/50\n",
            "782/782 [==============================] - 13s 17ms/step - loss: 1.2095 - accuracy: 0.5759 - val_loss: 1.1816 - val_accuracy: 0.5850 - lr: 0.0010\n",
            "Epoch 6/50\n",
            "782/782 [==============================] - 13s 16ms/step - loss: 1.1835 - accuracy: 0.5839 - val_loss: 1.1714 - val_accuracy: 0.5864 - lr: 0.0010\n",
            "Epoch 7/50\n",
            "782/782 [==============================] - 14s 17ms/step - loss: 1.1633 - accuracy: 0.5889 - val_loss: 1.1479 - val_accuracy: 0.5944 - lr: 0.0010\n",
            "Epoch 8/50\n",
            "782/782 [==============================] - 14s 17ms/step - loss: 1.1459 - accuracy: 0.5952 - val_loss: 1.1476 - val_accuracy: 0.6006 - lr: 0.0010\n",
            "Epoch 9/50\n",
            "782/782 [==============================] - 14s 17ms/step - loss: 1.1307 - accuracy: 0.6008 - val_loss: 1.1370 - val_accuracy: 0.5981 - lr: 0.0010\n",
            "Epoch 10/50\n",
            "782/782 [==============================] - 13s 16ms/step - loss: 1.1162 - accuracy: 0.6057 - val_loss: 1.1247 - val_accuracy: 0.6083 - lr: 0.0010\n",
            "Epoch 11/50\n",
            "782/782 [==============================] - 13s 17ms/step - loss: 1.1005 - accuracy: 0.6110 - val_loss: 1.1225 - val_accuracy: 0.6097 - lr: 0.0010\n",
            "Epoch 12/50\n",
            "782/782 [==============================] - 14s 17ms/step - loss: 1.0861 - accuracy: 0.6132 - val_loss: 1.1226 - val_accuracy: 0.6098 - lr: 0.0010\n",
            "Epoch 13/50\n",
            "782/782 [==============================] - 13s 17ms/step - loss: 1.0748 - accuracy: 0.6219 - val_loss: 1.1294 - val_accuracy: 0.6016 - lr: 0.0010\n",
            "Epoch 14/50\n",
            "782/782 [==============================] - 13s 17ms/step - loss: 1.0619 - accuracy: 0.6223 - val_loss: 1.1218 - val_accuracy: 0.6040 - lr: 0.0010\n",
            "Epoch 15/50\n",
            "782/782 [==============================] - 13s 17ms/step - loss: 1.0525 - accuracy: 0.6274 - val_loss: 1.1118 - val_accuracy: 0.6125 - lr: 0.0010\n",
            "Epoch 16/50\n",
            "782/782 [==============================] - 13s 17ms/step - loss: 1.0415 - accuracy: 0.6336 - val_loss: 1.1123 - val_accuracy: 0.6107 - lr: 0.0010\n",
            "Epoch 17/50\n",
            "782/782 [==============================] - 13s 17ms/step - loss: 1.0285 - accuracy: 0.6374 - val_loss: 1.1148 - val_accuracy: 0.6139 - lr: 0.0010\n",
            "Epoch 18/50\n",
            "782/782 [==============================] - 13s 17ms/step - loss: 1.0284 - accuracy: 0.6362 - val_loss: 1.1107 - val_accuracy: 0.6170 - lr: 0.0010\n",
            "Epoch 19/50\n",
            "782/782 [==============================] - 13s 17ms/step - loss: 1.0099 - accuracy: 0.6428 - val_loss: 1.1105 - val_accuracy: 0.6133 - lr: 0.0010\n",
            "Epoch 20/50\n",
            "782/782 [==============================] - 13s 17ms/step - loss: 0.9967 - accuracy: 0.6460 - val_loss: 1.1269 - val_accuracy: 0.6123 - lr: 0.0010\n",
            "Epoch 21/50\n",
            "782/782 [==============================] - 13s 17ms/step - loss: 0.9896 - accuracy: 0.6484 - val_loss: 1.1139 - val_accuracy: 0.6162 - lr: 0.0010\n",
            "Epoch 22/50\n",
            "782/782 [==============================] - 14s 17ms/step - loss: 0.9825 - accuracy: 0.6508 - val_loss: 1.1108 - val_accuracy: 0.6186 - lr: 0.0010\n",
            "Epoch 23/50\n",
            "782/782 [==============================] - 14s 17ms/step - loss: 0.9723 - accuracy: 0.6522 - val_loss: 1.1111 - val_accuracy: 0.6179 - lr: 0.0010\n",
            "Epoch 24/50\n",
            "782/782 [==============================] - 13s 17ms/step - loss: 0.9639 - accuracy: 0.6549 - val_loss: 1.1166 - val_accuracy: 0.6148 - lr: 0.0010\n",
            "Epoch 25/50\n",
            "782/782 [==============================] - 13s 17ms/step - loss: 0.9544 - accuracy: 0.6619 - val_loss: 1.1156 - val_accuracy: 0.6189 - lr: 0.0010\n",
            "Epoch 26/50\n",
            "782/782 [==============================] - 13s 17ms/step - loss: 0.9499 - accuracy: 0.6633 - val_loss: 1.1138 - val_accuracy: 0.6207 - lr: 0.0010\n",
            "Epoch 27/50\n",
            "782/782 [==============================] - 13s 17ms/step - loss: 0.9390 - accuracy: 0.6658 - val_loss: 1.1152 - val_accuracy: 0.6192 - lr: 0.0010\n",
            "Epoch 28/50\n",
            "782/782 [==============================] - 13s 17ms/step - loss: 0.9341 - accuracy: 0.6652 - val_loss: 1.1140 - val_accuracy: 0.6208 - lr: 0.0010\n",
            "Epoch 29/50\n",
            "782/782 [==============================] - 14s 17ms/step - loss: 0.9201 - accuracy: 0.6731 - val_loss: 1.1210 - val_accuracy: 0.6168 - lr: 0.0010\n",
            "Epoch 30/50\n",
            "782/782 [==============================] - 13s 17ms/step - loss: 0.9151 - accuracy: 0.6724 - val_loss: 1.1245 - val_accuracy: 0.6212 - lr: 0.0010\n",
            "Epoch 31/50\n",
            "782/782 [==============================] - 13s 17ms/step - loss: 0.9090 - accuracy: 0.6741 - val_loss: 1.1152 - val_accuracy: 0.6182 - lr: 0.0010\n",
            "Epoch 32/50\n",
            "782/782 [==============================] - 13s 17ms/step - loss: 0.9036 - accuracy: 0.6757 - val_loss: 1.1223 - val_accuracy: 0.6215 - lr: 0.0010\n",
            "Epoch 33/50\n",
            "782/782 [==============================] - 13s 17ms/step - loss: 0.8922 - accuracy: 0.6818 - val_loss: 1.1268 - val_accuracy: 0.6192 - lr: 0.0010\n",
            "Epoch 34/50\n",
            "782/782 [==============================] - 13s 17ms/step - loss: 0.8848 - accuracy: 0.6834 - val_loss: 1.1157 - val_accuracy: 0.6232 - lr: 0.0010\n",
            "Epoch 35/50\n",
            "782/782 [==============================] - 13s 17ms/step - loss: 0.8791 - accuracy: 0.6852 - val_loss: 1.1311 - val_accuracy: 0.6210 - lr: 0.0010\n",
            "Epoch 36/50\n",
            "782/782 [==============================] - 13s 17ms/step - loss: 0.8727 - accuracy: 0.6882 - val_loss: 1.1519 - val_accuracy: 0.6194 - lr: 0.0010\n",
            "Epoch 37/50\n",
            "782/782 [==============================] - 14s 17ms/step - loss: 0.8700 - accuracy: 0.6903 - val_loss: 1.1457 - val_accuracy: 0.6167 - lr: 0.0010\n",
            "Epoch 38/50\n",
            "782/782 [==============================] - 13s 17ms/step - loss: 0.8622 - accuracy: 0.6921 - val_loss: 1.1321 - val_accuracy: 0.6201 - lr: 0.0010\n",
            "Epoch 39/50\n",
            "782/782 [==============================] - 13s 17ms/step - loss: 0.8519 - accuracy: 0.6913 - val_loss: 1.1426 - val_accuracy: 0.6207 - lr: 0.0010\n",
            "Epoch 40/50\n",
            "782/782 [==============================] - 14s 17ms/step - loss: 0.8477 - accuracy: 0.6953 - val_loss: 1.1462 - val_accuracy: 0.6213 - lr: 0.0010\n",
            "Epoch 41/50\n",
            "782/782 [==============================] - 13s 17ms/step - loss: 0.8413 - accuracy: 0.6971 - val_loss: 1.1477 - val_accuracy: 0.6168 - lr: 0.0010\n",
            "Epoch 42/50\n",
            "782/782 [==============================] - 13s 17ms/step - loss: 0.8378 - accuracy: 0.6977 - val_loss: 1.1641 - val_accuracy: 0.6220 - lr: 0.0010\n",
            "Epoch 43/50\n",
            "782/782 [==============================] - 14s 17ms/step - loss: 0.8328 - accuracy: 0.7011 - val_loss: 1.1583 - val_accuracy: 0.6240 - lr: 0.0010\n",
            "Epoch 44/50\n",
            "782/782 [==============================] - 14s 17ms/step - loss: 0.8264 - accuracy: 0.7007 - val_loss: 1.1563 - val_accuracy: 0.6232 - lr: 0.0010\n",
            "Epoch 45/50\n",
            "782/782 [==============================] - 14s 17ms/step - loss: 0.8206 - accuracy: 0.7011 - val_loss: 1.1535 - val_accuracy: 0.6246 - lr: 0.0010\n",
            "Epoch 46/50\n",
            "782/782 [==============================] - 13s 17ms/step - loss: 0.8144 - accuracy: 0.7068 - val_loss: 1.1642 - val_accuracy: 0.6220 - lr: 0.0010\n",
            "Epoch 47/50\n",
            "782/782 [==============================] - 13s 17ms/step - loss: 0.8102 - accuracy: 0.7093 - val_loss: 1.1587 - val_accuracy: 0.6196 - lr: 0.0010\n",
            "Epoch 48/50\n",
            "782/782 [==============================] - 14s 17ms/step - loss: 0.8035 - accuracy: 0.7101 - val_loss: 1.1655 - val_accuracy: 0.6169 - lr: 0.0010\n",
            "Epoch 49/50\n",
            "782/782 [==============================] - 14s 17ms/step - loss: 0.7992 - accuracy: 0.7096 - val_loss: 1.1551 - val_accuracy: 0.6206 - lr: 0.0010\n",
            "Epoch 50/50\n",
            "782/782 [==============================] - 14s 17ms/step - loss: 0.7930 - accuracy: 0.7141 - val_loss: 1.1797 - val_accuracy: 0.6169 - lr: 0.0010\n"
          ]
        },
        {
          "output_type": "execute_result",
          "data": {
            "text/plain": [
              "<keras.callbacks.History at 0x7f86217e7be0>"
            ]
          },
          "metadata": {},
          "execution_count": 9
        }
      ],
      "source": [
        "model.fit (x_train, y_train, batch_size = 64, epochs = 50, validation_data = (x_test, y_test), callbacks = [learning_rate_reduction])"
      ]
    },
    {
      "cell_type": "code",
      "execution_count": 20,
      "metadata": {
        "id": "hGlbG09trp1I"
      },
      "outputs": [],
      "source": [
        "metrics = pd.DataFrame (model.history.history)"
      ]
    },
    {
      "cell_type": "code",
      "source": [
        "metrics[['loss','val_loss']].plot()"
      ],
      "metadata": {
        "colab": {
          "base_uri": "https://localhost:8080/",
          "height": 447
        },
        "id": "96re-gVKIkFS",
        "outputId": "e3b15384-aacb-4c86-a28f-2b1381b253e4"
      },
      "execution_count": 11,
      "outputs": [
        {
          "output_type": "execute_result",
          "data": {
            "text/plain": [
              "<Axes: >"
            ]
          },
          "metadata": {},
          "execution_count": 11
        },
        {
          "output_type": "display_data",
          "data": {
            "text/plain": [
              "<Figure size 640x480 with 1 Axes>"
            ],
            "image/png": "[encoded data removed]"
          },
          "metadata": {}
        }
      ]
    },
    {
      "cell_type": "code",
      "source": [
        "metrics[['accuracy','val_accuracy']].plot()"
      ],
      "metadata": {
        "colab": {
          "base_uri": "https://localhost:8080/",
          "height": 447
        },
        "id": "ufBxsQ_5Iok-",
        "outputId": "b4feda23-3966-4fbd-8314-25f7916415d6"
      },
      "execution_count": 12,
      "outputs": [
        {
          "output_type": "execute_result",
          "data": {
            "text/plain": [
              "<Axes: >"
            ]
          },
          "metadata": {},
          "execution_count": 12
        },
        {
          "output_type": "display_data",
          "data": {
            "text/plain": [
              "<Figure size 640x480 with 1 Axes>"
            ],
            "image/png": "[encoded data removed]"
          },
          "metadata": {}
        }
      ]
    },
    {
      "cell_type": "code",
      "source": [
        "x_test_predictions = np.argmax(model.predict(x_test), axis=1)"
      ],
      "metadata": {
        "colab": {
          "base_uri": "https://localhost:8080/"
        },
        "id": "kIk1QBdbIxtY",
        "outputId": "0ce9a952-eb5e-4f03-814e-48d44b4bf1a5"
      },
      "execution_count": 14,
      "outputs": [
        {
          "output_type": "stream",
          "name": "stdout",
          "text": [
            "313/313 [==============================] - 3s 8ms/step\n"
          ]
        }
      ]
    },
    {
      "cell_type": "code",
      "source": [
        "print(confusion_matrix(y_test,x_test_predictions))"
      ],
      "metadata": {
        "colab": {
          "base_uri": "https://localhost:8080/"
        },
        "id": "TXcKBRd0I8bp",
        "outputId": "4c55c258-5c39-4195-b78d-9ac40e02a0ff"
      },
      "execution_count": 17,
      "outputs": [
        {
          "output_type": "stream",
          "name": "stdout",
          "text": [
            "[[714  21  47  27  24  15  10  12  80  50]\n",
            " [ 33 679  14  34  13  18  17   9  45 138]\n",
            " [ 55  17 538  86  84  74  84  24  24  14]\n",
            " [ 22  46  74 466  59 170  70  23  18  52]\n",
            " [ 27  14  74  93 558  55  75  75  15  14]\n",
            " [ 15  25  54 182  55 555  41  41   7  25]\n",
            " [ 10  24  49  67  72  55 689   7  14  13]\n",
            " [ 21  13  58  51  92 102  14 596  12  41]\n",
            " [ 99  67  23  27  20   5   5   6 702  46]\n",
            " [ 35 120  15  45   9  20  17  26  41 672]]\n"
          ]
        }
      ]
    },
    {
      "cell_type": "code",
      "source": [
        "print(classification_report(y_test,x_test_predictions))"
      ],
      "metadata": {
        "colab": {
          "base_uri": "https://localhost:8080/"
        },
        "id": "RWvsNUiUI90Z",
        "outputId": "49422b99-2069-4792-b70d-48608f96b3b5"
      },
      "execution_count": 18,
      "outputs": [
        {
          "output_type": "stream",
          "name": "stdout",
          "text": [
            "              precision    recall  f1-score   support\n",
            "\n",
            "           0       0.69      0.71      0.70      1000\n",
            "           1       0.66      0.68      0.67      1000\n",
            "           2       0.57      0.54      0.55      1000\n",
            "           3       0.43      0.47      0.45      1000\n",
            "           4       0.57      0.56      0.56      1000\n",
            "           5       0.52      0.56      0.54      1000\n",
            "           6       0.67      0.69      0.68      1000\n",
            "           7       0.73      0.60      0.66      1000\n",
            "           8       0.73      0.70      0.72      1000\n",
            "           9       0.63      0.67      0.65      1000\n",
            "\n",
            "    accuracy                           0.62     10000\n",
            "   macro avg       0.62      0.62      0.62     10000\n",
            "weighted avg       0.62      0.62      0.62     10000\n",
            "\n"
          ]
        }
      ]
    },
    {
      "cell_type": "code",
      "source": [],
      "metadata": {
        "id": "XdFgYOdII-2v"
      },
      "execution_count": null,
      "outputs": []
    }
  ],
  "metadata": {
    "accelerator": "GPU",
    "colab": {
      "provenance": []
    },
    "kernelspec": {
      "display_name": "Python 3",
      "name": "python3"
    },
    "language_info": {
      "name": "python"
    }
  },
  "nbformat": 4,
  "nbformat_minor": 0
}